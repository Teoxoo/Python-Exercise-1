{
 "cells": [
  {
   "cell_type": "markdown",
   "id": "38f04764",
   "metadata": {},
   "source": [
    "# Il Primo Programma"
   ]
  },
  {
   "cell_type": "code",
   "execution_count": 2,
   "id": "4888eb49",
   "metadata": {},
   "outputs": [
    {
     "name": "stdout",
     "output_type": "stream",
     "text": [
      "ciao, mondo!\n"
     ]
    }
   ],
   "source": [
    "print(\"ciao, mondo!\")"
   ]
  },
  {
   "cell_type": "code",
   "execution_count": 4,
   "id": "a42954e1",
   "metadata": {},
   "outputs": [
    {
     "name": "stdout",
     "output_type": "stream",
     "text": [
      "ciao, mondo! 9 questo è il tuo risultato\n"
     ]
    }
   ],
   "source": [
    "print(\"ciao, mondo!\" ,3*3, \"questo è il tuo risultato\")"
   ]
  },
  {
   "cell_type": "code",
   "execution_count": 7,
   "id": "68165b67",
   "metadata": {},
   "outputs": [
    {
     "name": "stdout",
     "output_type": "stream",
     "text": [
      "inserisci il tuo nome: Matteo\n",
      "Ciao, Matteo !\n"
     ]
    }
   ],
   "source": [
    "nome = input(\"inserisci il tuo nome: \")\n",
    "print(\"Ciao,\", nome,\"!\")"
   ]
  },
  {
   "cell_type": "code",
   "execution_count": 6,
   "id": "d4f5d33e",
   "metadata": {},
   "outputs": [],
   "source": [
    "nome = \"Matteo\"\n",
    "                      #Questo è un commento\n",
    "\n"
   ]
  },
  {
   "cell_type": "code",
   "execution_count": 7,
   "id": "869c0cb7",
   "metadata": {},
   "outputs": [
    {
     "name": "stdout",
     "output_type": "stream",
     "text": [
      "Inserisci il tuo nome Matteo\n",
      "Matteo\n",
      "Matteo\n",
      "Matteo\n",
      "Matteo\n",
      "Matteo\n"
     ]
    }
   ],
   "source": [
    "nome=input(\"Inserisci il tuo nome \")\n",
    "\n",
    "for i in range(5):\n",
    "    print(nome)\n"
   ]
  },
  {
   "cell_type": "markdown",
   "id": "5e57fe39",
   "metadata": {},
   "source": [
    "# Calcolatrice Python\n"
   ]
  },
  {
   "cell_type": "markdown",
   "id": "11dda892",
   "metadata": {},
   "source": [
    "# Addizione"
   ]
  },
  {
   "cell_type": "code",
   "execution_count": 8,
   "id": "583cd5dd",
   "metadata": {},
   "outputs": [
    {
     "name": "stdout",
     "output_type": "stream",
     "text": [
      "Inserisci il primo numero: 4\n",
      "Inserisci il secondo numero: 6\n",
      "La somma è: 10\n"
     ]
    }
   ],
   "source": [
    "numero1 = int(input(\"Inserisci il primo numero: \"))\n",
    "numero2 = int(input(\"Inserisci il secondo numero: \"))\n",
    "somma = numero1 + numero2\n",
    "print(\"La somma è:\" , somma)"
   ]
  },
  {
   "cell_type": "markdown",
   "id": "d7ad9a98",
   "metadata": {},
   "source": [
    "# Sottrazione\n"
   ]
  },
  {
   "cell_type": "code",
   "execution_count": 12,
   "id": "405922a1",
   "metadata": {
    "scrolled": true
   },
   "outputs": [
    {
     "name": "stdout",
     "output_type": "stream",
     "text": [
      "La sottrazione è: -2\n"
     ]
    }
   ],
   "source": [
    "sottrazione = numero1 - numero2\n",
    "print(\"La sottrazione è:\" , sottrazione)\n"
   ]
  },
  {
   "cell_type": "markdown",
   "id": "0ce72478",
   "metadata": {},
   "source": [
    "# Numeri in Loop"
   ]
  },
  {
   "cell_type": "code",
   "execution_count": 14,
   "id": "2946754a",
   "metadata": {},
   "outputs": [
    {
     "name": "stdout",
     "output_type": "stream",
     "text": [
      "0\n",
      "1\n",
      "2\n",
      "3\n",
      "4\n",
      "5\n",
      "6\n",
      "7\n",
      "8\n",
      "9\n",
      "10\n"
     ]
    }
   ],
   "source": [
    "for numero in range(11):\n",
    "    print(numero)           #Partirà sempre dallo 0 per farlo partire dall'1 nella parentesi dovrò mettere (1,11)"
   ]
  },
  {
   "cell_type": "markdown",
   "id": "f20cd9c7",
   "metadata": {},
   "source": [
    "# Calcolatrice Python con Decisioni"
   ]
  },
  {
   "cell_type": "code",
   "execution_count": 18,
   "id": "135e69ce",
   "metadata": {},
   "outputs": [
    {
     "name": "stdout",
     "output_type": "stream",
     "text": [
      "inserisci l'operazione (+, -, *, /): *\n",
      "Inserisci il primo numero: 7\n",
      "Inserisci il secondo numero: 6\n",
      "Il risultato è: 42.0\n"
     ]
    }
   ],
   "source": [
    "operazione = input(\"inserisci l'operazione (+, -, *, /): \")\n",
    "\n",
    "numero1 = float(input(\"Inserisci il primo numero: \"))\n",
    "numero2 = float(input(\"Inserisci il secondo numero: \"))              # Conta i numeri con la virgola perchè utilizziamo float\n",
    "\n",
    "if operazione == \"+\":\n",
    "    risultato = numero1 + numero2\n",
    "elif operazione == \"-\":\n",
    "    risultato = numero1 - numero2\n",
    "elif operazione == \"*\":\n",
    "    risultato = numero1 * numero2\n",
    "elif operazione == \"/\":\n",
    "    risultato = numero1 / numero2\n",
    "else:\n",
    "    risultato = \"Operazione non valida\"\n",
    "    \n",
    "print(\"Il risultato è:\", risultato)"
   ]
  },
  {
   "cell_type": "markdown",
   "id": "c42fbf0d",
   "metadata": {},
   "source": [
    "# Calcolo il Quadrato di un Numero Intero Positivo "
   ]
  },
  {
   "cell_type": "code",
   "execution_count": 3,
   "id": "6a02cdd6",
   "metadata": {},
   "outputs": [
    {
     "name": "stdout",
     "output_type": "stream",
     "text": [
      "Inserisci un numero intero positivo: 30\n",
      "Quadrti dei primi 30 numeri:\n",
      "Il quadrato di 30 è: 900\n"
     ]
    }
   ],
   "source": [
    "n = int(input(\"Inserisci un numero intero positivo: \"))\n",
    "somma = 0\n",
    "\n",
    "print(\"Quadrti dei primi\", n, \"numeri:\")\n",
    "\n",
    "for numero in range(1, n + 1):\n",
    "    quadrato = numero ** 2\n",
    "print(\"Il quadrato di\", numero, \"è:\", quadrato)"
   ]
  },
  {
   "cell_type": "markdown",
   "id": "96d20dc4",
   "metadata": {},
   "source": [
    "# Verificare la Parità "
   ]
  },
  {
   "cell_type": "code",
   "execution_count": 3,
   "id": "71dff035",
   "metadata": {},
   "outputs": [
    {
     "name": "stdout",
     "output_type": "stream",
     "text": [
      "inserisci un numero: 6\n",
      "6 è un numero pari.\n"
     ]
    }
   ],
   "source": [
    "numero = int(input(\"Inserisci un numero: \"))\n",
    "\n",
    "if numero % 2 == 0:\n",
    "    print(numero, \"è un numero pari.\")\n",
    "else:\n",
    "    print(numero, \"è un numero dispari.\")"
   ]
  },
  {
   "cell_type": "markdown",
   "id": "34c26531",
   "metadata": {},
   "source": [
    "# Calcolare il Fattoriale "
   ]
  },
  {
   "cell_type": "code",
   "execution_count": 6,
   "id": "df3f7383",
   "metadata": {},
   "outputs": [
    {
     "name": "stdout",
     "output_type": "stream",
     "text": [
      "Inserisci un numero intero positivo: 5\n",
      "Il fattoriale di 5 è: 120\n"
     ]
    }
   ],
   "source": [
    "n = int(input(\"Inserisci un numero intero positivo: \"))\n",
    "fattoriale = 1\n",
    "\n",
    "for numero in range(1, n + 1):\n",
    "    #fattoriale = fattoriale*numero                     #Il fattoriale di un numero si ottiene moltiplicando tutti i\n",
    "                                                        #numeri tra 1 e il numero stesso\n",
    "    fattoriale *=numero\n",
    "print(\"Il fattoriale di\", n, \"è:\", fattoriale)\n",
    "      "
   ]
  },
  {
   "cell_type": "markdown",
   "id": "ba2bf41e",
   "metadata": {},
   "source": [
    "# Calcolare il Fattoriale 2.0"
   ]
  },
  {
   "cell_type": "code",
   "execution_count": 4,
   "id": "844fefb6",
   "metadata": {},
   "outputs": [
    {
     "name": "stdout",
     "output_type": "stream",
     "text": [
      "Inserisci un numero intero: 6\n",
      "Il fattoriale di 6 è: 720\n"
     ]
    }
   ],
   "source": [
    "n=int(input(\"Inserisci un numero intero: \"))\n",
    "\n",
    "fattoriale=1\n",
    "\n",
    "if n<0:\n",
    "    print(\"numero negativo\")\n",
    "elif n==0:\n",
    "    print(\"Il fattoriale di zero è 1\")\n",
    "else:\n",
    "    for numero in range(1,n+1):\n",
    "        fattoriale*=numero\n",
    "print(f\"Il fattoriale di {n} è: {fattoriale}\")"
   ]
  },
  {
   "cell_type": "markdown",
   "id": "4d2582cc",
   "metadata": {},
   "source": [
    "# Calcolare la Media di una lista di Numeri "
   ]
  },
  {
   "cell_type": "code",
   "execution_count": 1,
   "id": "f3c9fa9d",
   "metadata": {},
   "outputs": [
    {
     "name": "stdout",
     "output_type": "stream",
     "text": [
      "Quanti numeri vuoi inserire? 5\n",
      "Inserisci un numero: 3\n",
      "Inserisci un numero: 8\n",
      "Inserisci un numero: 9\n",
      "Inserisci un numero: 15\n",
      "Inserisci un numero: 100\n",
      "La media dei numeri inseriti è: 27.0 [3.0, 8.0, 9.0, 15.0, 100.0]\n"
     ]
    }
   ],
   "source": [
    "numeri = []\n",
    "\n",
    "n = int(input(\"Quanti numeri vuoi inserire? \"))\n",
    "\n",
    "for i in range(n):\n",
    "    numero = float(input(\"Inserisci un numero: \"))\n",
    "    numeri.append(numero)\n",
    "    \n",
    "media = sum(numeri) / len(numeri)\n",
    "\n",
    "print(\"La media dei numeri inseriti è:\", media, numeri)"
   ]
  },
  {
   "cell_type": "markdown",
   "id": "19c833dd",
   "metadata": {},
   "source": [
    "# Lista di Numeri Interi Positivi"
   ]
  },
  {
   "cell_type": "code",
   "execution_count": 6,
   "id": "c550ba78",
   "metadata": {},
   "outputs": [
    {
     "name": "stdout",
     "output_type": "stream",
     "text": [
      "Inserisci un numero intero positivo N: 6\n",
      "[2, 4, 6, 8, 10, 12]\n"
     ]
    }
   ],
   "source": [
    "N = int(input(\"Inserisci un numero intero positivo N: \"))\n",
    "\n",
    "lista=[]\n",
    "\n",
    "for numero in range(2, 2 * N + 1, 2):\n",
    "    lista.append(numero)\n",
    "\n",
    "# Stampare la somma\n",
    "print(lista)"
   ]
  },
  {
   "cell_type": "markdown",
   "id": "bed3d8f3",
   "metadata": {},
   "source": [
    "#  Contare le Vocali all'interno delle Frasi"
   ]
  },
  {
   "cell_type": "code",
   "execution_count": 7,
   "id": "c6d0797c",
   "metadata": {},
   "outputs": [
    {
     "name": "stdout",
     "output_type": "stream",
     "text": [
      "Inserisci una frase o una parola: ciao\n",
      "Nella frase inserita ci sono 3 vocali.\n"
     ]
    }
   ],
   "source": [
    "# Chiedi all'utente di inserire una frase o una parola \n",
    "frase = input(\"Inserisci una frase o una parola: \").lower()  # Converti tutto in minuscolo per semplificare\n",
    "\n",
    "# Inizializza il contatore delle vocali\n",
    "conteggio_vocali = 0\n",
    "\n",
    "# Definisci le vocali da cercare \n",
    "vocali = \"aeiou\"\n",
    "\n",
    "# Scansiona ogni carattere nella frase \n",
    "for carattere in frase:\n",
    "    # Verifica se il carattere è una vocale \n",
    "    if carattere in vocali:\n",
    "        conteggio_vocali += 1\n",
    "        \n",
    "# Stampa il conteeggio delle vocali\n",
    "print(f\"Nella frase inserita ci sono {conteggio_vocali} vocali.\")\n"
   ]
  },
  {
   "cell_type": "markdown",
   "id": "cda7a2b2",
   "metadata": {},
   "source": [
    "# Calcolo Data e Ora"
   ]
  },
  {
   "cell_type": "code",
   "execution_count": 8,
   "id": "1959a9ca",
   "metadata": {},
   "outputs": [
    {
     "name": "stdout",
     "output_type": "stream",
     "text": [
      "oggi è il giorno: 02 10 2023 ore:  09 05 24\n"
     ]
    }
   ],
   "source": [
    "import datetime\n",
    "\n",
    "today = datetime.datetime.today()\n",
    "print(f\"oggi è il giorno: {today:%d %m %Y} ore: {today: %H %M %S}\")"
   ]
  },
  {
   "cell_type": "markdown",
   "id": "cfd2fab5",
   "metadata": {},
   "source": [
    "# Convertitore Unità di Misura"
   ]
  },
  {
   "cell_type": "code",
   "execution_count": 2,
   "id": "73a8cc2a",
   "metadata": {},
   "outputs": [
    {
     "name": "stdout",
     "output_type": "stream",
     "text": [
      "Benvenuto nel convertitore di unità di misura!\n",
      "Cosa desideri convertire? (metri/piedi/chilogrammi/libbre): metri\n",
      "Inserisc il valore in metri: 80\n",
      "80.0 metri corrispondono a 262.4672 piedi\n"
     ]
    }
   ],
   "source": [
    "print(\"Benvenuto nel convertitore di unità di misura!\")\n",
    "scelta = input(\"Cosa desideri convertire? (metri/piedi/chilogrammi/libbre): \").lower()\n",
    "\n",
    "if scelta == \"metri\":\n",
    "    valore = float(input(\"Inserisci il valore in metri: \"))\n",
    "    risultato = valore * 3.28084\n",
    "    print(f\"{valore} metri corrispondono a {risultato} piedi\")\n",
    "elif scelta == \"piedi\":\n",
    "    valore = float(input(\"Inserisci il valore in metri: \"))\n",
    "    risultato = valore * 3.28084\n",
    "    print(f\"{valore} piedi corrispondono a {risultato} metri\")\n",
    "elif scelta == \"chilogrammi\":\n",
    "    valore = float(input(\"Inserisci il valore in metri: \"))\n",
    "    risultato = valore * 2.20462\n",
    "    print(f\"{valore} chilogrammi corrispondono a {risultato} libbre\")\n",
    "elif scelta == \"libbre\":\n",
    "    valore = float(input(\"Inserisci il valore in metri: \"))\n",
    "    risultato = valore * 2.20462\n",
    "    print(f\"{valore} libbre corrispondono a {risultato} chilogrammi\")\n",
    "else:\n",
    "    print(\"Scelta non valida. Scegli tra 'metri','piedi','chilogrammi'o'libbre'.\")"
   ]
  },
  {
   "cell_type": "markdown",
   "id": "dcbaa12d",
   "metadata": {},
   "source": [
    "# Numero di Fibonacci"
   ]
  },
  {
   "cell_type": "code",
   "execution_count": 5,
   "id": "a699a254",
   "metadata": {},
   "outputs": [
    {
     "name": "stdout",
     "output_type": "stream",
     "text": [
      "Inserisci un numero n per calcolare l'n-esimo numero di Fibonacci: 5\n",
      "L'n-esimo numero di Fibonacci è: 3\n"
     ]
    }
   ],
   "source": [
    "n = int(input(\"Inserisci un numero n per calcolare l'n-esimo numero di Fibonacci: \"))\n",
    "# Inizializzare le variabili per i primi due numeri di Fibonacci\n",
    "a=0\n",
    "b=1\n",
    "c=1\n",
    "\n",
    "# Calcolare l'n-esimo numero di Fibonacci\n",
    "if n <= 0:\n",
    "    print(\"Il numero deve essere maggiore di zero.\")\n",
    "elif n == 1:\n",
    "    risultato = a\n",
    "else:\n",
    "    for iterazione in range(n-3):\n",
    "        a = b\n",
    "        b = c\n",
    "        c = a + b\n",
    "        risultato = c\n",
    "print(\"L'n-esimo numero di Fibonacci è:\", risultato)"
   ]
  },
  {
   "cell_type": "markdown",
   "id": "68307e1a",
   "metadata": {},
   "source": [
    "# Funzioni Custom"
   ]
  },
  {
   "cell_type": "code",
   "execution_count": 6,
   "id": "df78bf81",
   "metadata": {},
   "outputs": [],
   "source": [
    "def fibonacci(n):\n",
    "    fib_series = [0, 1]\n",
    "    while len(fib_series) < n:\n",
    "        fib_series.append(fib_series[-1] + fib_series[-2])\n",
    "        \n",
    "    return fib_series"
   ]
  },
  {
   "cell_type": "code",
   "execution_count": 7,
   "id": "53558ac3",
   "metadata": {},
   "outputs": [
    {
     "data": {
      "text/plain": [
       "[0, 1, 1, 2, 3, 5, 8, 13, 21, 34]"
      ]
     },
     "execution_count": 7,
     "metadata": {},
     "output_type": "execute_result"
    }
   ],
   "source": [
    "fibonacci(10)"
   ]
  },
  {
   "cell_type": "markdown",
   "id": "17dbfb9e",
   "metadata": {},
   "source": [
    "# Calcolo Aree"
   ]
  },
  {
   "cell_type": "code",
   "execution_count": 11,
   "id": "453ecb5d",
   "metadata": {},
   "outputs": [],
   "source": [
    "import math\n",
    "def calcola_area_cerchio(raggio):\n",
    "    return math.pi * (raggio ** 2)\n",
    "def calcola_area_rettangolo(base, altezza):\n",
    "    return base * altezza\n",
    "def calcola_area_triangolo(base, altezza):\n",
    "    return (base * altezza) / 2"
   ]
  },
  {
   "cell_type": "code",
   "execution_count": 13,
   "id": "4b7722e5",
   "metadata": {},
   "outputs": [
    {
     "name": "stdout",
     "output_type": "stream",
     "text": [
      "Benvenuto nella Calcolatrice di Aree!\n",
      "Vuoi calcolare l'area di u cerchio (c), rettangolo (r) p triangolo (t)? c\n",
      "Inserisci il raggio del cerchio: 10\n",
      "L'area del cerchio è  314.16\n"
     ]
    }
   ],
   "source": [
    "print(\"Benvenuto nella Calcolatrice di Aree!\")\n",
    "\n",
    "scelta = input(\"Vuoi calcolare l'area di u cerchio (c), rettangolo (r) p triangolo (t)? \").lower()\n",
    "\n",
    "if scelta == 'c':\n",
    "    raggio = float(input(\"Inserisci il raggio del cerchio: \"))\n",
    "    area = calcola_area_cerchio(raggio)\n",
    "    print(f\"L'area del cerchio è {area: .2f}\")\n",
    "elif scelta == 'r':\n",
    "    base = float(input(\"Inserisci la base del rettangolo: \"))\n",
    "    altezza = float(input(\"Inserisci l'altezza del rettangolo: \"))\n",
    "    area = calcola_area_rettangolo(base, altezza)\n",
    "    print(f\"L'area del rettangolo è {area: .2f}\")\n",
    "elif scelta == 't':\n",
    "    base = float(input(\"Inserisci la base del triangolo: \"))\n",
    "    altezza = float(input(\"Inserisci l'altezza del triangolo: \"))\n",
    "    area = calcola_area_triangolo(base, altezza)\n",
    "    print(f\"L'area del tringolo è {area: .2f}\")\n",
    "else:\n",
    "    print(\"scelta non valida.\")"
   ]
  },
  {
   "cell_type": "markdown",
   "id": "9e7ded7c",
   "metadata": {},
   "source": [
    "# Calcolatore di Interessi"
   ]
  },
  {
   "cell_type": "code",
   "execution_count": 2,
   "id": "a08eebc1",
   "metadata": {},
   "outputs": [],
   "source": [
    "\n",
    "def calcola_interessi(importo_inziale, tasso_interesse, periodi_investimento):\n",
    "    importo_finale = importo_iniziale * (1 + tasso_interesse / 100) ** periodi_investimento\n",
    "    return importo_finale"
   ]
  },
  {
   "cell_type": "code",
   "execution_count": 3,
   "id": "c8604866",
   "metadata": {},
   "outputs": [
    {
     "name": "stdout",
     "output_type": "stream",
     "text": [
      "Benvenuto nel Calcolatore si interessi!\n",
      "Inserisci l'importo iniziale: 2000\n",
      "Inserisci il tasso di interesse annuale (%): 20\n",
      "Inserisci il periodo di investimento (anni): 14\n",
      "L'importo finale dopo 14 anni è di 25678.37 euro.\n"
     ]
    }
   ],
   "source": [
    "print(\"Benvenuto nel Calcolatore si interessi!\")\n",
    "importo_iniziale = float(input(\"Inserisci l'importo iniziale: \"))\n",
    "tasso_interesse = float(input(\"Inserisci il tasso di interesse annuale (%): \"))\n",
    "periodi_investimento = int(input(\"Inserisci il periodo di investimento (anni): \"))\n",
    "\n",
    "importo_finale = calcola_interessi(importo_iniziale, tasso_interesse, periodi_investimento)\n",
    "\n",
    "print(f\"L'importo finale dopo {periodi_investimento} anni è di {importo_finale:.2f} euro.\")"
   ]
  },
  {
   "cell_type": "code",
   "execution_count": 4,
   "id": "6e8431c9",
   "metadata": {},
   "outputs": [
    {
     "data": {
      "text/plain": [
       "2960.488569836689"
      ]
     },
     "execution_count": 4,
     "metadata": {},
     "output_type": "execute_result"
    }
   ],
   "source": [
    "calcola_interessi(10000,4,10)"
   ]
  },
  {
   "cell_type": "markdown",
   "id": "d8feb214",
   "metadata": {},
   "source": [
    "# Calcolo della Forza Gravitazionale "
   ]
  },
  {
   "cell_type": "code",
   "execution_count": 5,
   "id": "f2d99f00",
   "metadata": {},
   "outputs": [],
   "source": [
    "def forza_gravitazionale(m1, m2, r):\n",
    "    # Costante gravitazionale\n",
    "    G = 6.67430e-11  # N(m/kg)^2\n",
    "    \n",
    "    # Calcolo della forza gravitazionale\n",
    "    F = (G * m1 * m2) / (r ** 2)\n",
    "    \n",
    "    return F"
   ]
  },
  {
   "cell_type": "code",
   "execution_count": 6,
   "id": "ddd6726e",
   "metadata": {},
   "outputs": [
    {
     "name": "stdout",
     "output_type": "stream",
     "text": [
      "Forza gravitazionale tra la terra e la Luna: 1.9804922390990566e+20 Newton\n"
     ]
    }
   ],
   "source": [
    "# Esempio di utilizzo # kg  # kg   # metri\n",
    "massa_terra = 5.972e24\n",
    "massa_luna = 7.342e22\n",
    "distanza_terra_luna = 384400000\n",
    "\n",
    "forza = forza_gravitazionale(massa_terra, massa_luna, distanza_terra_luna)\n",
    "print(f\"Forza gravitazionale tra la terra e la Luna: {forza} Newton\")"
   ]
  },
  {
   "cell_type": "markdown",
   "id": "f50127dd",
   "metadata": {},
   "source": [
    "# Cambio tra Valute "
   ]
  },
  {
   "cell_type": "code",
   "execution_count": 9,
   "id": "0b5b9e74",
   "metadata": {},
   "outputs": [
    {
     "name": "stdout",
     "output_type": "stream",
     "text": [
      "Inserissci l'importo da convertire: 9\n",
      "Inserisci la valuta di partenza: euro\n",
      "Inserisci la valuta di destinazione:yen\n",
      "9.0 euro sono equivalenti a 1169.05 yen\n"
     ]
    }
   ],
   "source": [
    "# Definizione dei tassi di cambio \n",
    "tassi_di_cambio = {\n",
    "    \"dollari\": 1.0,\n",
    "    \"euro\": 0.85,\n",
    "    \"yen\": 110.41,\n",
    "    # Aggiungi altre valute e tassi di cambio se necessario\n",
    "} \n",
    "\n",
    "# Chiedi all'utente di inserire l'importo, la valuta di partenza e la valuta di destinazione \n",
    "importo = float(input(\"Inserissci l'importo da convertire: \"))\n",
    "valuta_di_partenza = input(\"Inserisci la valuta di partenza: \").lower() \n",
    "valuta_destinazione = input(\"Inserisci la valuta di destinazione:\").lower()\n",
    "\n",
    "#Verifica se le valute sono nel dizionario dei tassi di cambio\n",
    "if valuta_di_partenza in tassi_di_cambio and valuta_destinazione in tassi_di_cambio:\n",
    "        # Calcola il tasso di cambio e l'importo convertito\n",
    "        tasso_di_cambio = tassi_di_cambio[valuta_destinazione] / tassi_di_cambio[valuta_di_partenza] \n",
    "        importo_convertito = importo * tasso_di_cambio\n",
    "        \n",
    "        #Stampa il risultato\n",
    "        print(f\"{importo} {valuta_di_partenza} sono equivalenti a {importo_convertito:.2f} {valuta_destinazione}\")\n",
    "else:\n",
    "    print(\"Valute non supportate. Assicurati di inserire valute valide\")"
   ]
  },
  {
   "cell_type": "markdown",
   "id": "6b14b6a7",
   "metadata": {},
   "source": [
    "# Calcolatore di Anagrammi"
   ]
  },
  {
   "cell_type": "code",
   "execution_count": 10,
   "id": "b52d5d9c",
   "metadata": {},
   "outputs": [
    {
     "name": "stdout",
     "output_type": "stream",
     "text": [
      "Benvenuto nel Risolutore di Anagrammi!\n",
      "Inserisci una parola: matteo\n",
      "mattoe\n",
      "mateto\n",
      "mateot\n",
      "matote\n",
      "matoet\n",
      "mattoe\n",
      "mateto\n",
      "mateot\n",
      "matote\n",
      "matoet\n",
      "maetto\n",
      "maetot\n",
      "maetto\n",
      "maetot\n",
      "maeott\n",
      "maeott\n",
      "maotte\n",
      "maotet\n",
      "maotte\n",
      "maotet\n",
      "maoett\n",
      "maoett\n",
      "mtateo\n",
      "mtatoe\n",
      "mtaeto\n",
      "mtaeot\n",
      "mtaote\n",
      "mtaoet\n",
      "mttaeo\n",
      "mttaoe\n",
      "mtteao\n",
      "mtteoa\n",
      "mttoae\n",
      "mttoea\n",
      "mteato\n",
      "mteaot\n",
      "mtetao\n",
      "mtetoa\n",
      "mteoat\n",
      "mteota\n",
      "mtoate\n",
      "mtoaet\n",
      "mtotae\n",
      "mtotea\n",
      "mtoeat\n",
      "mtoeta\n",
      "mtateo\n",
      "mtatoe\n",
      "mtaeto\n",
      "mtaeot\n",
      "mtaote\n",
      "mtaoet\n",
      "mttaeo\n",
      "mttaoe\n",
      "mtteao\n",
      "mtteoa\n",
      "mttoae\n",
      "mttoea\n",
      "mteato\n",
      "mteaot\n",
      "mtetao\n",
      "mtetoa\n",
      "mteoat\n",
      "mteota\n",
      "mtoate\n",
      "mtoaet\n",
      "mtotae\n",
      "mtotea\n",
      "mtoeat\n",
      "mtoeta\n",
      "meatto\n",
      "meatot\n",
      "meatto\n",
      "meatot\n",
      "meaott\n",
      "meaott\n",
      "metato\n",
      "metaot\n",
      "mettao\n",
      "mettoa\n",
      "metoat\n",
      "metota\n",
      "metato\n",
      "metaot\n",
      "mettao\n",
      "mettoa\n",
      "metoat\n",
      "metota\n",
      "meoatt\n",
      "meoatt\n",
      "meotat\n",
      "meotta\n",
      "meotat\n",
      "meotta\n",
      "moatte\n",
      "moatet\n",
      "moatte\n",
      "moatet\n",
      "moaett\n",
      "moaett\n",
      "motate\n",
      "motaet\n",
      "mottae\n",
      "mottea\n",
      "moteat\n",
      "moteta\n",
      "motate\n",
      "motaet\n",
      "mottae\n",
      "mottea\n",
      "moteat\n",
      "moteta\n",
      "moeatt\n",
      "moeatt\n",
      "moetat\n",
      "moetta\n",
      "moetat\n",
      "moetta\n",
      "amtteo\n",
      "amttoe\n",
      "amteto\n",
      "amteot\n",
      "amtote\n",
      "amtoet\n",
      "amtteo\n",
      "amttoe\n",
      "amteto\n",
      "amteot\n",
      "amtote\n",
      "amtoet\n",
      "ametto\n",
      "ametot\n",
      "ametto\n",
      "ametot\n",
      "ameott\n",
      "ameott\n",
      "amotte\n",
      "amotet\n",
      "amotte\n",
      "amotet\n",
      "amoett\n",
      "amoett\n",
      "atmteo\n",
      "atmtoe\n",
      "atmeto\n",
      "atmeot\n",
      "atmote\n",
      "atmoet\n",
      "attmeo\n",
      "attmoe\n",
      "attemo\n",
      "atteom\n",
      "attome\n",
      "attoem\n",
      "atemto\n",
      "atemot\n",
      "atetmo\n",
      "atetom\n",
      "ateomt\n",
      "ateotm\n",
      "atomte\n",
      "atomet\n",
      "atotme\n",
      "atotem\n",
      "atoemt\n",
      "atoetm\n",
      "atmteo\n",
      "atmtoe\n",
      "atmeto\n",
      "atmeot\n",
      "atmote\n",
      "atmoet\n",
      "attmeo\n",
      "attmoe\n",
      "attemo\n",
      "atteom\n",
      "attome\n",
      "attoem\n",
      "atemto\n",
      "atemot\n",
      "atetmo\n",
      "atetom\n",
      "ateomt\n",
      "ateotm\n",
      "atomte\n",
      "atomet\n",
      "atotme\n",
      "atotem\n",
      "atoemt\n",
      "atoetm\n",
      "aemtto\n",
      "aemtot\n",
      "aemtto\n",
      "aemtot\n",
      "aemott\n",
      "aemott\n",
      "aetmto\n",
      "aetmot\n",
      "aettmo\n",
      "aettom\n",
      "aetomt\n",
      "aetotm\n",
      "aetmto\n",
      "aetmot\n",
      "aettmo\n",
      "aettom\n",
      "aetomt\n",
      "aetotm\n",
      "aeomtt\n",
      "aeomtt\n",
      "aeotmt\n",
      "aeottm\n",
      "aeotmt\n",
      "aeottm\n",
      "aomtte\n",
      "aomtet\n",
      "aomtte\n",
      "aomtet\n",
      "aomett\n",
      "aomett\n",
      "aotmte\n",
      "aotmet\n",
      "aottme\n",
      "aottem\n",
      "aotemt\n",
      "aotetm\n",
      "aotmte\n",
      "aotmet\n",
      "aottme\n",
      "aottem\n",
      "aotemt\n",
      "aotetm\n",
      "aoemtt\n",
      "aoemtt\n",
      "aoetmt\n",
      "aoettm\n",
      "aoetmt\n",
      "aoettm\n",
      "tmateo\n",
      "tmatoe\n",
      "tmaeto\n",
      "tmaeot\n",
      "tmaote\n",
      "tmaoet\n",
      "tmtaeo\n",
      "tmtaoe\n",
      "tmteao\n",
      "tmteoa\n",
      "tmtoae\n",
      "tmtoea\n",
      "tmeato\n",
      "tmeaot\n",
      "tmetao\n",
      "tmetoa\n",
      "tmeoat\n",
      "tmeota\n",
      "tmoate\n",
      "tmoaet\n",
      "tmotae\n",
      "tmotea\n",
      "tmoeat\n",
      "tmoeta\n",
      "tamteo\n",
      "tamtoe\n",
      "tameto\n",
      "tameot\n",
      "tamote\n",
      "tamoet\n",
      "tatmeo\n",
      "tatmoe\n",
      "tatemo\n",
      "tateom\n",
      "tatome\n",
      "tatoem\n",
      "taemto\n",
      "taemot\n",
      "taetmo\n",
      "taetom\n",
      "taeomt\n",
      "taeotm\n",
      "taomte\n",
      "taomet\n",
      "taotme\n",
      "taotem\n",
      "taoemt\n",
      "taoetm\n",
      "ttmaeo\n",
      "ttmaoe\n",
      "ttmeao\n",
      "ttmeoa\n",
      "ttmoae\n",
      "ttmoea\n",
      "ttameo\n",
      "ttamoe\n",
      "ttaemo\n",
      "ttaeom\n",
      "ttaome\n",
      "ttaoem\n",
      "ttemao\n",
      "ttemoa\n",
      "tteamo\n",
      "tteaom\n",
      "tteoma\n",
      "tteoam\n",
      "ttomae\n",
      "ttomea\n",
      "ttoame\n",
      "ttoaem\n",
      "ttoema\n",
      "ttoeam\n",
      "temato\n",
      "temaot\n",
      "temtao\n",
      "temtoa\n",
      "temoat\n",
      "temota\n",
      "teamto\n",
      "teamot\n",
      "teatmo\n",
      "teatom\n",
      "teaomt\n",
      "teaotm\n",
      "tetmao\n",
      "tetmoa\n",
      "tetamo\n",
      "tetaom\n",
      "tetoma\n",
      "tetoam\n",
      "teomat\n",
      "teomta\n",
      "teoamt\n",
      "teoatm\n",
      "teotma\n",
      "teotam\n",
      "tomate\n",
      "tomaet\n",
      "tomtae\n",
      "tomtea\n",
      "tomeat\n",
      "tometa\n",
      "toamte\n",
      "toamet\n",
      "toatme\n",
      "toatem\n",
      "toaemt\n",
      "toaetm\n",
      "totmae\n",
      "totmea\n",
      "totame\n",
      "totaem\n",
      "totema\n",
      "toteam\n",
      "toemat\n",
      "toemta\n",
      "toeamt\n",
      "toeatm\n",
      "toetma\n",
      "toetam\n",
      "tmateo\n",
      "tmatoe\n",
      "tmaeto\n",
      "tmaeot\n",
      "tmaote\n",
      "tmaoet\n",
      "tmtaeo\n",
      "tmtaoe\n",
      "tmteao\n",
      "tmteoa\n",
      "tmtoae\n",
      "tmtoea\n",
      "tmeato\n",
      "tmeaot\n",
      "tmetao\n",
      "tmetoa\n",
      "tmeoat\n",
      "tmeota\n",
      "tmoate\n",
      "tmoaet\n",
      "tmotae\n",
      "tmotea\n",
      "tmoeat\n",
      "tmoeta\n",
      "tamteo\n",
      "tamtoe\n",
      "tameto\n",
      "tameot\n",
      "tamote\n",
      "tamoet\n",
      "tatmeo\n",
      "tatmoe\n",
      "tatemo\n",
      "tateom\n",
      "tatome\n",
      "tatoem\n",
      "taemto\n",
      "taemot\n",
      "taetmo\n",
      "taetom\n",
      "taeomt\n",
      "taeotm\n",
      "taomte\n",
      "taomet\n",
      "taotme\n",
      "taotem\n",
      "taoemt\n",
      "taoetm\n",
      "ttmaeo\n",
      "ttmaoe\n",
      "ttmeao\n",
      "ttmeoa\n",
      "ttmoae\n",
      "ttmoea\n",
      "ttameo\n",
      "ttamoe\n",
      "ttaemo\n",
      "ttaeom\n",
      "ttaome\n",
      "ttaoem\n",
      "ttemao\n",
      "ttemoa\n",
      "tteamo\n",
      "tteaom\n",
      "tteoma\n",
      "tteoam\n",
      "ttomae\n",
      "ttomea\n",
      "ttoame\n",
      "ttoaem\n",
      "ttoema\n",
      "ttoeam\n",
      "temato\n",
      "temaot\n",
      "temtao\n",
      "temtoa\n",
      "temoat\n",
      "temota\n",
      "teamto\n",
      "teamot\n",
      "teatmo\n",
      "teatom\n",
      "teaomt\n",
      "teaotm\n",
      "tetmao\n",
      "tetmoa\n",
      "tetamo\n",
      "tetaom\n",
      "tetoma\n",
      "tetoam\n",
      "teomat\n",
      "teomta\n",
      "teoamt\n",
      "teoatm\n",
      "teotma\n",
      "teotam\n",
      "tomate\n",
      "tomaet\n",
      "tomtae\n",
      "tomtea\n",
      "tomeat\n",
      "tometa\n",
      "toamte\n",
      "toamet\n",
      "toatme\n",
      "toatem\n",
      "toaemt\n",
      "toaetm\n",
      "totmae\n",
      "totmea\n",
      "totame\n",
      "totaem\n",
      "totema\n",
      "toteam\n",
      "toemat\n",
      "toemta\n",
      "toeamt\n",
      "toeatm\n",
      "toetma\n",
      "toetam\n",
      "ematto\n",
      "ematot\n",
      "ematto\n",
      "ematot\n",
      "emaott\n",
      "emaott\n",
      "emtato\n",
      "emtaot\n",
      "emttao\n",
      "emttoa\n",
      "emtoat\n",
      "emtota\n",
      "emtato\n",
      "emtaot\n",
      "emttao\n",
      "emttoa\n",
      "emtoat\n",
      "emtota\n",
      "emoatt\n",
      "emoatt\n",
      "emotat\n",
      "emotta\n",
      "emotat\n",
      "emotta\n",
      "eamtto\n",
      "eamtot\n",
      "eamtto\n",
      "eamtot\n",
      "eamott\n",
      "eamott\n",
      "eatmto\n",
      "eatmot\n",
      "eattmo\n",
      "eattom\n",
      "eatomt\n",
      "eatotm\n",
      "eatmto\n",
      "eatmot\n",
      "eattmo\n",
      "eattom\n",
      "eatomt\n",
      "eatotm\n",
      "eaomtt\n",
      "eaomtt\n",
      "eaotmt\n",
      "eaottm\n",
      "eaotmt\n",
      "eaottm\n",
      "etmato\n",
      "etmaot\n",
      "etmtao\n",
      "etmtoa\n",
      "etmoat\n",
      "etmota\n",
      "etamto\n",
      "etamot\n",
      "etatmo\n",
      "etatom\n",
      "etaomt\n",
      "etaotm\n",
      "ettmao\n",
      "ettmoa\n",
      "ettamo\n",
      "ettaom\n",
      "ettoma\n",
      "ettoam\n",
      "etomat\n",
      "etomta\n",
      "etoamt\n",
      "etoatm\n",
      "etotma\n",
      "etotam\n",
      "etmato\n",
      "etmaot\n",
      "etmtao\n",
      "etmtoa\n",
      "etmoat\n",
      "etmota\n",
      "etamto\n",
      "etamot\n",
      "etatmo\n",
      "etatom\n",
      "etaomt\n",
      "etaotm\n",
      "ettmao\n",
      "ettmoa\n",
      "ettamo\n",
      "ettaom\n",
      "ettoma\n",
      "ettoam\n",
      "etomat\n",
      "etomta\n",
      "etoamt\n",
      "etoatm\n",
      "etotma\n",
      "etotam\n",
      "eomatt\n",
      "eomatt\n",
      "eomtat\n",
      "eomtta\n",
      "eomtat\n",
      "eomtta\n",
      "eoamtt\n",
      "eoamtt\n",
      "eoatmt\n",
      "eoattm\n",
      "eoatmt\n",
      "eoattm\n",
      "eotmat\n",
      "eotmta\n",
      "eotamt\n",
      "eotatm\n",
      "eottma\n",
      "eottam\n",
      "eotmat\n",
      "eotmta\n",
      "eotamt\n",
      "eotatm\n",
      "eottma\n",
      "eottam\n",
      "omatte\n",
      "omatet\n",
      "omatte\n",
      "omatet\n",
      "omaett\n",
      "omaett\n",
      "omtate\n",
      "omtaet\n",
      "omttae\n",
      "omttea\n",
      "omteat\n",
      "omteta\n",
      "omtate\n",
      "omtaet\n",
      "omttae\n",
      "omttea\n",
      "omteat\n",
      "omteta\n",
      "omeatt\n",
      "omeatt\n",
      "ometat\n",
      "ometta\n",
      "ometat\n",
      "ometta\n",
      "oamtte\n",
      "oamtet\n",
      "oamtte\n",
      "oamtet\n",
      "oamett\n",
      "oamett\n",
      "oatmte\n",
      "oatmet\n",
      "oattme\n",
      "oattem\n",
      "oatemt\n",
      "oatetm\n",
      "oatmte\n",
      "oatmet\n",
      "oattme\n",
      "oattem\n",
      "oatemt\n",
      "oatetm\n",
      "oaemtt\n",
      "oaemtt\n",
      "oaetmt\n",
      "oaettm\n",
      "oaetmt\n",
      "oaettm\n",
      "otmate\n",
      "otmaet\n",
      "otmtae\n",
      "otmtea\n",
      "otmeat\n",
      "otmeta\n",
      "otamte\n",
      "otamet\n",
      "otatme\n",
      "otatem\n",
      "otaemt\n",
      "otaetm\n",
      "ottmae\n",
      "ottmea\n",
      "ottame\n",
      "ottaem\n",
      "ottema\n",
      "otteam\n",
      "otemat\n",
      "otemta\n",
      "oteamt\n",
      "oteatm\n",
      "otetma\n",
      "otetam\n",
      "otmate\n",
      "otmaet\n",
      "otmtae\n",
      "otmtea\n",
      "otmeat\n",
      "otmeta\n",
      "otamte\n",
      "otamet\n",
      "otatme\n",
      "otatem\n",
      "otaemt\n",
      "otaetm\n",
      "ottmae\n",
      "ottmea\n",
      "ottame\n",
      "ottaem\n",
      "ottema\n",
      "otteam\n",
      "otemat\n",
      "otemta\n",
      "oteamt\n",
      "oteatm\n",
      "otetma\n",
      "otetam\n",
      "oematt\n",
      "oematt\n",
      "oemtat\n",
      "oemtta\n",
      "oemtat\n",
      "oemtta\n",
      "oeamtt\n",
      "oeamtt\n",
      "oeatmt\n",
      "oeattm\n",
      "oeatmt\n",
      "oeattm\n",
      "oetmat\n",
      "oetmta\n",
      "oetamt\n",
      "oetatm\n",
      "oettma\n",
      "oettam\n",
      "oetmat\n",
      "oetmta\n",
      "oetamt\n",
      "oetatm\n",
      "oettma\n",
      "oettam\n",
      "Gli anagrammi di 'matteo' sono:'718'\n"
     ]
    }
   ],
   "source": [
    "from itertools import permutations\n",
    "k=0\n",
    "\n",
    "def trova_anagrammi(parola):\n",
    "    anagrammi =  [''.join(p) for p in permutations(parola)]\n",
    "    return anagrammi\n",
    "\n",
    "print(\"Benvenuto nel Risolutore di Anagrammi!\")\n",
    "parola_input = input(\"Inserisci una parola: \").strip().lower() # .strip() cancella gli spazi bianchi\n",
    "\n",
    "if len(parola_input) < 2:\n",
    "    print(\"Inserisci una parola con almeno 2 caratteri.\")\n",
    "else:\n",
    "    anagrammi = trova_anagrammi(parola_input)\n",
    "\n",
    "    for anagramma in anagrammi:\n",
    "        if anagramma != parola_input: # != significa diverso\n",
    "            k+=1\n",
    "            print(anagramma)\n",
    "    print(f\"Gli anagrammi di '{parola_input}' sono:'{k}'\")"
   ]
  },
  {
   "cell_type": "markdown",
   "id": "105b8cd2",
   "metadata": {},
   "source": [
    "# Conteggio Lettere"
   ]
  },
  {
   "cell_type": "code",
   "execution_count": 4,
   "id": "0e8416d1",
   "metadata": {},
   "outputs": [
    {
     "name": "stdout",
     "output_type": "stream",
     "text": [
      "inserisci una frase: prima prova\n",
      "a: 2\n",
      "i: 1\n",
      "m: 1\n",
      "o: 1\n",
      "p: 2\n",
      "r: 2\n",
      "v: 1\n"
     ]
    }
   ],
   "source": [
    "frase = input(\"inserisci una frase: \")\n",
    "\n",
    "frase = frase.lower()\n",
    "\n",
    "alfabeto = 'abcdefghijklmnopqrstuvwxyz'\n",
    "\n",
    "conteggio_lettere = {}\n",
    "\n",
    "for lettera in alfabeto:\n",
    "    conteggio = frase.count(lettera)\n",
    "\n",
    "    if conteggio > 0: conteggio_lettere[lettera] = conteggio\n",
    "\n",
    "for lettera, conteggio in conteggio_lettere.items():\n",
    "    print(f\"{lettera}: {conteggio}\")\n"
   ]
  },
  {
   "cell_type": "code",
   "execution_count": 5,
   "id": "2e89d7db",
   "metadata": {},
   "outputs": [
    {
     "data": {
      "text/plain": [
       "dict_items([('a', 2), ('i', 1), ('m', 1), ('o', 1), ('p', 2), ('r', 2), ('v', 1)])"
      ]
     },
     "execution_count": 5,
     "metadata": {},
     "output_type": "execute_result"
    }
   ],
   "source": [
    "conteggio_lettere.items()"
   ]
  },
  {
   "cell_type": "code",
   "execution_count": 7,
   "id": "c7624c92",
   "metadata": {},
   "outputs": [],
   "source": [
    "prodotti={}\n",
    "prodotti[\"pan bauletto\"]=2\n",
    "prodotti[\"coca cola\"]=3"
   ]
  },
  {
   "cell_type": "code",
   "execution_count": 8,
   "id": "1f033811",
   "metadata": {},
   "outputs": [
    {
     "data": {
      "text/plain": [
       "{'pan bauletto': 2, 'coca cola': 3}"
      ]
     },
     "execution_count": 8,
     "metadata": {},
     "output_type": "execute_result"
    }
   ],
   "source": [
    "prodotti\n"
   ]
  },
  {
   "cell_type": "markdown",
   "id": "9eb948dd",
   "metadata": {},
   "source": [
    "# Orologio nel Mondo"
   ]
  },
  {
   "cell_type": "code",
   "execution_count": 10,
   "id": "93cc519f",
   "metadata": {},
   "outputs": [
    {
     "name": "stdout",
     "output_type": "stream",
     "text": [
      "Benvenuto nell'Orologio Mondiale!\n",
      "\n",
      "Città disponibili:\n",
      "New York\n",
      "Londra\n",
      "Tokyo\n",
      "Sydney\n",
      "Rio de Janeiro\n",
      "Inserisci il nome della città per visualizzare l'ora (o 'esci' per uscire): Tokyo\n",
      "L'ora corrente a Tokyo è: 18:19:49\n",
      "\n",
      "Città disponibili:\n",
      "New York\n",
      "Londra\n",
      "Tokyo\n",
      "Sydney\n",
      "Rio de Janeiro\n",
      "Inserisci il nome della città per visualizzare l'ora (o 'esci' per uscire): esci\n"
     ]
    }
   ],
   "source": [
    "from datetime import datetime\n",
    "import pytz\n",
    "\n",
    "print(\"Benvenuto nell'Orologio Mondiale!\")\n",
    "\n",
    "# Definisci le città e i relativi fusi orari\n",
    "citta_fusi_orari = {\n",
    "    \"New York\": \"America/New_York\",\n",
    "    \"Londra\": \"Europe/London\",\n",
    "    \"Tokyo\": \"Asia/Tokyo\",\n",
    "    \"Sydney\": \"Australia/Sydney\",\n",
    "    \"Rio de Janeiro\": \"America/Sao_Paulo\",\n",
    "}\n",
    "\n",
    "while True:\n",
    "    print(\"\\nCittà disponibili:\")\n",
    "    for citta in citta_fusi_orari.keys():\n",
    "        print(citta)\n",
    "\n",
    "    scelta_citta = input(\"Inserisci il nome della città per visualizzare l'ora (o 'esci' per uscire): \").strip()\n",
    "    if scelta_citta.lower() == 'esci':\n",
    "        break\n",
    "\n",
    "    if scelta_citta in citta_fusi_orari.keys():\n",
    "        fuso_orario = pytz.timezone(citta_fusi_orari[scelta_citta])\n",
    "        ora_corrente = datetime.now(fuso_orario)\n",
    "        print(f\"L'ora corrente a {scelta_citta} è: {ora_corrente.strftime('%H:%M:%S')}\")\n",
    "    else:\n",
    "        print(\"Città non valida. Riprova.\")\n"
   ]
  },
  {
   "cell_type": "code",
   "execution_count": 8,
   "id": "c064ac3a",
   "metadata": {},
   "outputs": [
    {
     "name": "stdout",
     "output_type": "stream",
     "text": [
      "mi chiamo paolo\n"
     ]
    }
   ],
   "source": [
    "# Funzione principale può avere qualsiasi nome \n",
    "def paolo():\n",
    "    print(\"mi chiamo paolo\")\n",
    "    \n",
    "    \n",
    "if __name__==\"__main__\":\n",
    "    \n",
    "    paolo()\n"
   ]
  },
  {
   "cell_type": "markdown",
   "id": "b4baabcc",
   "metadata": {},
   "source": [
    "# Calcolo del peso"
   ]
  },
  {
   "cell_type": "code",
   "execution_count": 5,
   "id": "9a4ad15d",
   "metadata": {},
   "outputs": [
    {
     "name": "stdout",
     "output_type": "stream",
     "text": [
      "Benvenuto nella calcolatrice BMI!\n",
      "Inserisci il tuo peso in chilogrammi: 60\n",
      "Inserisci la tua altezza in metri: 1.82\n",
      "Il tuo BMI è 1.8e+01, sei classificato come 'Sottopeso'.\n"
     ]
    }
   ],
   "source": [
    "def calcola_bmi(peso, altezza):\n",
    "    return peso / (altezza ** 2)\n",
    "\n",
    "def valuta_bmi(bmi):\n",
    "    if bmi < 18.5:\n",
    "        return \"Sottopeso\"\n",
    "    elif 18.5 <= bmi < 24.9:\n",
    "        return \"Normopeso\"\n",
    "    elif 25<= bmi < 29.9:\n",
    "        return \"Sovrappeso\"\n",
    "    else:\n",
    "        return \"Obeso\"\n",
    "\n",
    "def main():\n",
    "    print(\"Benvenuto nella calcolatrice BMI!\")\n",
    "    peso = float(input(\"Inserisci il tuo peso in chilogrammi: \"))\n",
    "    altezza = float(input(\"Inserisci la tua altezza in metri: \"))\n",
    "\n",
    "    bmi = calcola_bmi(peso,altezza)\n",
    "    valutazione = valuta_bmi(bmi)\n",
    "\n",
    "    print(f\"Il tuo BMI è {bmi:.2}, sei classificato come '{valutazione}'.\")\n",
    "\n",
    "if __name__ == \"__main__\":\n",
    "    main()\n"
   ]
  },
  {
   "cell_type": "markdown",
   "id": "c2d86caa",
   "metadata": {},
   "source": [
    "# Convertitore di Misure"
   ]
  },
  {
   "cell_type": "code",
   "execution_count": 12,
   "id": "f3eb7f6f",
   "metadata": {},
   "outputs": [
    {
     "name": "stdout",
     "output_type": "stream",
     "text": [
      "Benvenuto nel Convertitore di Unità di Misura!\n",
      "Cosa desideri convertire? (metri/piedi/chilogrammi/libbre): metri\n",
      "Inserisci il valore in metri: 10\n",
      " 10.000 metri corrispondono a 32.8084 piedi\n"
     ]
    }
   ],
   "source": [
    "def metri_a_piedi(metri):\n",
    "    return metri * 3.28084\n",
    "def piedi_a_metri(piedi):\n",
    "    return piedi / 3.28084\n",
    "def chilogrammi_a_libbre(chilogrammo):\n",
    "    return chilogrammi * 2.20462\n",
    "def libbre_a_chilogrammi(libbre):\n",
    "    return libbre / 2.20462\n",
    "\n",
    "def selezione(scelta):\n",
    "    if scelta == \"metri\":\n",
    "        valore = float(input(\"Inserisci il valore in metri: \"))\n",
    "        risultato = metri_a_piedi(valore)\n",
    "        print(f\"{valore: .3f} metri corrispondono a {risultato} piedi\")\n",
    "    elif scelta == \"piedi\":\n",
    "        valore = float(input(\"Inserisci il valore in piedi: \"))\n",
    "        risultato = piedi_a_metri(valore)\n",
    "        print(f\"{valore: .3f} piedi corrispondono a {risultato} metri\")\n",
    "    elif scelta == \"piedi\":\n",
    "        valore = float(input(\"Inserisci il valore in piedi: \"))\n",
    "        risultato = chilogrammi_a_libbre(valore)\n",
    "        print(f\"{valore: .3f} chilogrammi corrispondono a {risultato} libbre\")\n",
    "    elif scelta == \"piedi\":\n",
    "        valore = float(input(\"Inserisci il valore in piedi: \"))\n",
    "        risultato = libbre_a_chilogrammi(valore)\n",
    "        print(f\"{valore: .3f} libbre corrispondono a {risultato} chilogrammi\")\n",
    "    else:\n",
    "        print(\"Sveglia!! Scelta non valida, Scegli tra 'metri', 'piedi', 'chilogrammi' o 'libbre'.\")\n",
    "\n",
    "def main():\n",
    "    print(\"Benvenuto nel Convertitore di Unità di Misura!\")\n",
    "    scelta = input(\"Cosa desideri convertire? (metri/piedi/chilogrammi/libbre): \").lower()\n",
    "    selezione(scelta)\n",
    "if __name__ == \"__main__\":\n",
    "    main()"
   ]
  },
  {
   "cell_type": "markdown",
   "id": "7afa698f",
   "metadata": {},
   "source": [
    "# Calcolo Calorie Consumate"
   ]
  },
  {
   "cell_type": "code",
   "execution_count": 1,
   "id": "019af85e",
   "metadata": {},
   "outputs": [
    {
     "name": "stdout",
     "output_type": "stream",
     "text": [
      "Menu\n",
      "\n",
      " 1. Aggiungi cibo consumato\n",
      "\n",
      " 2. Calcola calorie totali\n",
      "\n",
      " 3. Esci\n",
      "Scegli un'opzione: 1\n",
      "\n",
      "\n",
      "pizza 285\n",
      "hamburger 250\n",
      "insalata 200\n",
      "pollo arrosto 335\n",
      "yogurt 150\n",
      "Inserisci il cibo consumato: pizza\n",
      "Inserisci la quantità (in grammi): 200\n",
      "Menu\n",
      "\n",
      " 1. Aggiungi cibo consumato\n",
      "\n",
      " 2. Calcola calorie totali\n",
      "\n",
      " 3. Esci\n",
      "Scegli un'opzione: 1\n",
      "\n",
      "\n",
      "pizza 285\n",
      "hamburger 250\n",
      "insalata 200\n",
      "pollo arrosto 335\n",
      "yogurt 150\n",
      "Inserisci il cibo consumato: insalata\n",
      "Inserisci la quantità (in grammi): 100\n",
      "Menu\n",
      "\n",
      " 1. Aggiungi cibo consumato\n",
      "\n",
      " 2. Calcola calorie totali\n",
      "\n",
      " 3. Esci\n",
      "Scegli un'opzione: 3\n"
     ]
    }
   ],
   "source": [
    "cibo_calorie = {\n",
    "    \"pizza\": 285,\n",
    "    \"hamburger\": 250,\n",
    "    \"insalata\": 200,\n",
    "    \"pollo arrosto\": 335,\n",
    "    \"yogurt\": 150,\n",
    "}\n",
    "\n",
    "def calorie_consumate(cibo, quantità):\n",
    "    if cibo not in cibo_calorie.keys():\n",
    "        print(\"cibo non presente\")\n",
    "    elif cibo in cibo_calorie.keys():\n",
    "        calorie_per_100g = cibo_calorie[cibo]\n",
    "        calorie_totali = (calorie_per_100g / 100) * quantità \n",
    "        return calorie_totali\n",
    "def main():\n",
    "    cibo_consumato = []\n",
    "\n",
    "\n",
    "    while True:\n",
    "        print(\"Menu\")\n",
    "        print(\"\\n 1. Aggiungi cibo consumato\")\n",
    "        print(\"\\n 2. Calcola calorie totali\")\n",
    "        print(\"\\n 3. Esci\")\n",
    "\n",
    "        scelta = input(\"Scegli un'opzione: \")\n",
    "\n",
    "        if scelta == \"1\":\n",
    "            print(\"\\n\")\n",
    "\n",
    "            for key, value in cibo_calorie.items() :\n",
    "                print (key, value)\n",
    "\n",
    "            cibo = input(\"Inserisci il cibo consumato: \").lower()\n",
    "            quantità = float(input(\"Inserisci la quantità (in grammi): \"))\n",
    "            cibo_consumato.append((cibo,quantità))\n",
    "        elif scelta == \"2\":\n",
    "            calorie_totali = sum(calorie_consumate(c, g) for c, g in cibo_consumato)\n",
    "            print(f\"\\nCalorie totali consumate: {calorie_totali} calorie\")\n",
    "        elif scelta == \"3\":\n",
    "            break\n",
    "        else:\n",
    "            print(\"\\nScelta non valida. Riprova.\")\n",
    "\n",
    "if __name__ == \"__main__\":\n",
    "    main()"
   ]
  },
  {
   "cell_type": "code",
   "execution_count": 2,
   "id": "8fbbd492",
   "metadata": {},
   "outputs": [],
   "source": [
    "acquisti={}\n",
    "acquisti[\"pan bauletto\"]=10\n",
    "acquisti[\"nutella\"]=10"
   ]
  },
  {
   "cell_type": "code",
   "execution_count": 3,
   "id": "f592248b",
   "metadata": {},
   "outputs": [
    {
     "data": {
      "text/plain": [
       "{'pan bauletto': 10, 'nutella': 10}"
      ]
     },
     "execution_count": 3,
     "metadata": {},
     "output_type": "execute_result"
    }
   ],
   "source": [
    "acquisti"
   ]
  },
  {
   "cell_type": "markdown",
   "id": "62df0214",
   "metadata": {},
   "source": [
    "# Creazione Personaggio Fantasy"
   ]
  },
  {
   "cell_type": "code",
   "execution_count": 8,
   "id": "dd514ceb",
   "metadata": {},
   "outputs": [
    {
     "name": "stdout",
     "output_type": "stream",
     "text": [
      "Personaggio Fantasy Generato:\n",
      "Specie: Orco\n",
      "Classe: Guerriero\n",
      "Arma: Spada\n",
      "Abilità: Incantesimi di guarigione, Estrazione mineraria, Magia dell'acqua\n"
     ]
    }
   ],
   "source": [
    "import random\n",
    "# Creo una lista per ogni classe così da avere più scelte \n",
    "speci = [\"Elfo\", \"Umano\", \"Nano\", \"Orco\", \"Gnomo\"]\n",
    "classi = [\"Guerriero\", \"Mago\", \"Ranger\", \"Ladro\", \"Chierico\"]\n",
    "armi = [\"Spada\", \"Arco\", \"Bacchetta magica\", \"Ascia\", \"Daga\"]\n",
    "abilità = [\"Furtività\", \"Magia dell'acqua\", \"Camuffamento\", \"Estrazione mineraria\", \"Incantesimi di guarigione\"]\n",
    "\n",
    "specie = random.choice(speci)\n",
    "classe = random.choice(classi)\n",
    "arma = random.choice(armi)\n",
    "abilità_scelte = random.sample(abilità, random.randint(1, 3))\n",
    "\n",
    "print(f\"Personaggio Fantasy Generato:\")\n",
    "print(f\"Specie: {specie}\")\n",
    "print(f\"Classe: {classe}\")\n",
    "print(f\"Arma: {arma}\")\n",
    "print(f\"Abilità: {', '.join(abilità_scelte)}\")"
   ]
  },
  {
   "cell_type": "code",
   "execution_count": 9,
   "id": "4c6d7cf3",
   "metadata": {},
   "outputs": [
    {
     "name": "stdout",
     "output_type": "stream",
     "text": [
      "Personaggio Fantasy Generato:\n",
      "Specie: Gnomo\n",
      "Classe: Ranger\n",
      "Arma: Bacchetta magica\n",
      "Abilità: Incantesimi di guarigione\n"
     ]
    }
   ],
   "source": [
    "import random\n",
    "\n",
    "speci = [\"Elfo\", \"Umano\", \"Nano\", \"Orco\", \"Gnomo\"]\n",
    "classi = [\"Guerriero\", \"Mago\", \"Ranger\", \"Ladro\", \"Chierico\"]\n",
    "armi = [\"Spada\", \"Arco\", \"Bacchetta magica\", \"Ascia\", \"Daga\"]\n",
    "abilità = [\"Furtività\", \"Magia dell'acqua\", \"Camuffamento\", \"Estrazione mineraria\", \"Incantesimi di guarigione\"]\n",
    "\n",
    "def crea_personaggio():\n",
    "    return {\n",
    "        \"Specie\": random.choice(speci),\n",
    "        \"Classe\": random.choice(classi),\n",
    "        \"Arma\": random.choice(armi),\n",
    "        \"Abilità\": random.sample(abilità, random.randint(1, 3))\n",
    "    }\n",
    "\n",
    "def main():\n",
    "    personaggio_generato = crea_personaggio()\n",
    "\n",
    "    print(\"Personaggio Fantasy Generato:\")\n",
    "    for chiave, valore in personaggio_generato.items():\n",
    "        if chiave == \"Abilità\":\n",
    "            valore = ', '.join(valore)\n",
    "        print(f\"{chiave}: {valore}\")\n",
    "\n",
    "if __name__ == \"__main__\":\n",
    "    main()\n"
   ]
  },
  {
   "cell_type": "markdown",
   "id": "bb577dab",
   "metadata": {},
   "source": [
    "# Generazione Frasi Motivazionali"
   ]
  },
  {
   "cell_type": "code",
   "execution_count": 13,
   "id": "1c141bf5",
   "metadata": {},
   "outputs": [
    {
     "name": "stdout",
     "output_type": "stream",
     "text": [
      "Benvenuto nel Generatore di Citazioni\n",
      "Premi Invio per ottenere una citazione casuale...\n",
      "Citazione del giorno: La vota è davvero semplice, ma insistiamo. - Confucio\n"
     ]
    }
   ],
   "source": [
    "import random\n",
    "\n",
    "citazioni = [\n",
    "    \"La vita è ciò che succede mentre sei occupato a fare altri progetti. - John Lennon\",\n",
    "    \"Il successo è camminare da un fallimento all'altro senza perdere l'entusiasmo. - Winston Churchill\",\n",
    "    \"La felicità  è quando ciò che pensi, ciò che dici e ciò che fai sono in armonia. - Mahatma Gadhi\",\n",
    "    \"La vota è davvero semplice, ma insistiamo. - Confucio\",\n",
    "    \"La vota è ciò che succede mentre sei occupato a fare altri progetti. - Steve Jobs\",\n",
    "    \"La vota è ciò che succede mentre sei occupato a fare altri progetti. - Charles R. Swindoll\"\n",
    "]\n",
    "\n",
    "def genera_citazione():\n",
    "    return random.choice(citazioni)\n",
    "\n",
    "def main():\n",
    "    print(\"Benvenuto nel Generatore di Citazioni\")\n",
    "    input(\"Premi Invio per ottenere una citazione casuale...\")\n",
    "\n",
    "    citazione = genera_citazione()\n",
    "    print(f\"Citazione del giorno: {citazione}\")\n",
    "\n",
    "if __name__ == \"__main__\":\n",
    "    main()\n"
   ]
  },
  {
   "cell_type": "code",
   "execution_count": 15,
   "id": "8ef749c3",
   "metadata": {},
   "outputs": [],
   "source": [
    "import random\n",
    "\n",
    "citazioni = [\n",
    "    \"Non smettere mai di inseguire i tuoi sogni.\",\n",
    "    \"I sogni sono le stelle che guidano la tua vita.\",\n",
    "    \"La strada verso il successo è pavimentata con i sogni che inseguimo.\",\n",
    "    \"I tuoi sogni sono la bussola della tua anima.\",\n",
    "    \"I sogni sono le ali con cui voliamo verso il futuro.\",\n",
    "    \"Ogni sogno è un passo avanti verso la realizzazione.\",\n",
    "    \"I sogni sono la linfa vitale dell'ispirazione.\",\n",
    "    \"Nessun sogno è troppo grande se hai il coraggio di inseguirlo.\",\n",
    "    \"I sogni sono la forza che ci spinge ad andare avanti.\",\n",
    "    \"Inseguire i tuoi sogni ti porta verso il miglioramento personale.\",\n",
    "]\n",
    "\n",
    "def crea_citazione():\n",
    "    num_frammenti = random.randint(4, 7)\n",
    "    citazione_rimescolata = random.sample(citazioni, num_frammenti)\n",
    "    nuova_citazione = \" \".join(citazione_rimescolata)\n",
    "    return nuova_citazione\n",
    "\n",
    "def main():\n",
    "    nuova_citazione = crea_citazione()\n",
    "    print(\"Nuova citazione generata:\")\n",
    "    print(nuova_citazione)\n",
    "\n",
    "if __name__ == \"__main\":\n",
    "    main()\n"
   ]
  },
  {
   "cell_type": "markdown",
   "id": "120bbcc2",
   "metadata": {},
   "source": [
    "# Giochi"
   ]
  },
  {
   "cell_type": "code",
   "execution_count": 1,
   "id": "d46f4f51",
   "metadata": {},
   "outputs": [
    {
     "name": "stdout",
     "output_type": "stream",
     "text": [
      "Indovina il numero (1-100): 50\n",
      "Il numero è più grande.\n",
      "Indovina il numero (1-100): 80\n",
      "Il numero è più grande.\n",
      "Indovina il numero (1-100): 90\n",
      "Il numero è più grande.\n",
      "Indovina il numero (1-100): 95\n",
      "Il numero è più grande.\n",
      "Indovina il numero (1-100): 99\n",
      "Il numero è più piccolo.\n",
      "Indovina il numero (1-100): 98\n",
      "Il numero è più piccolo.\n",
      "Indovina il numero (1-100): 96\n",
      "Il numero è più grande.\n",
      "Indovina il numero (1-100): 97\n",
      "Bravo! Hai indovinato il numero 97 in 8 tentativi.\n"
     ]
    }
   ],
   "source": [
    "# Gioco dell'Indovinello\n",
    "import random\n",
    "\n",
    "numero_da_indovinare = random.randint(1,100)\n",
    "tentativi = 0\n",
    "\n",
    "while True:\n",
    "    tentativo = int(input(\"Indovina il numero (1-100): \"))\n",
    "    tentativi += 1\n",
    "    \n",
    "    if tentativo == numero_da_indovinare:\n",
    "        print(\"Bravo! Hai indovinato il numero\", numero_da_indovinare, \"in\", tentativi, \"tentativi.\")\n",
    "        break\n",
    "    elif tentativo < numero_da_indovinare:\n",
    "        print(\"Il numero è più grande.\")\n",
    "    else:\n",
    "        print(\"Il numero è più piccolo.\")"
   ]
  },
  {
   "cell_type": "code",
   "execution_count": 2,
   "id": "a9910b67",
   "metadata": {},
   "outputs": [
    {
     "name": "stdout",
     "output_type": "stream",
     "text": [
      "Benvenuti al Gioco del Morra Cinese!\n",
      "Scegli la tua mossa (carta, forbici, sasso): carta\n",
      "Il computer ha scelto forbici\n",
      "Hai perso! \n"
     ]
    }
   ],
   "source": [
    "# Gioco del Morra Cinese\n",
    "mosse = [\"carta\", \"forbici\", \"sasso\"]\n",
    "computer_mossa = random.choice(mosse)\n",
    "\n",
    "print(\"Benvenuti al Gioco del Morra Cinese!\")\n",
    "scelta_giocatore = input(\"Scegli la tua mossa (carta, forbici, sasso): \")\n",
    "\n",
    "if scelta_giocatore not in mosse:\n",
    "    print(\"mossa non permessa\")\n",
    "else:\n",
    "    print(\"Il computer ha scelto\", computer_mossa)\n",
    "    if scelta_giocatore == computer_mossa:\n",
    "        print(\"Pareggio!\")\n",
    "    elif (scelta_giocatore == \"carta\" and computer_mossa == \"sasso\") or \\\n",
    "                 (scelta_giocatore == \"forbici\" and computer_mossa == \"carta\") or \\\n",
    "                 (scelta_giocatore == \"sasso\" and computer_mossa == \"forbici\"):\n",
    "                  print(\"Hai vinto! \")\n",
    "    else:\n",
    "        print(\"Hai perso! \")"
   ]
  },
  {
   "cell_type": "code",
   "execution_count": null,
   "id": "37afef11",
   "metadata": {},
   "outputs": [],
   "source": [
    "# Gioco dei dadi\n",
    "import random \n",
    "\n",
    "# Genera un numero casuale da 1 a 6 (simulando il lancio di un dado)\n",
    "numero_dado = random.randint(1, 6)\n",
    "\n",
    "# Chiedi all'utente di indovinare il numero \n",
    "indovina = int(input(\"Indovina il numero del dado (da 1 a 6): \"))\n",
    "\n",
    "# Verifica se l'utente ha indovinato correttamente \n",
    "if indovina <1 or indovina >6:\n",
    "    print(\"numero non ammesso\")\n",
    "elif indovina == numero_dado:\n",
    "    print(f\"Complimenti il numero del dado era {numero_dado}. Hai indovinato!\")\n",
    "else:\n",
    "    print(f\"Il numero del dato era {numero_dado}. Meglio la prossima volta.\")"
   ]
  }
 ],
 "metadata": {
  "kernelspec": {
   "display_name": "Python 3 (ipykernel)",
   "language": "python",
   "name": "python3"
  },
  "language_info": {
   "codemirror_mode": {
    "name": "ipython",
    "version": 3
   },
   "file_extension": ".py",
   "mimetype": "text/x-python",
   "name": "python",
   "nbconvert_exporter": "python",
   "pygments_lexer": "ipython3",
   "version": "3.11.4"
  }
 },
 "nbformat": 4,
 "nbformat_minor": 5
}
